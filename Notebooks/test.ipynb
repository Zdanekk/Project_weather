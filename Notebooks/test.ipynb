{
 "cells": [
  {
   "cell_type": "code",
   "execution_count": 11,
   "metadata": {},
   "outputs": [],
   "source": [
    "from flask import Flask, render_template, jsonify, make_response\n",
    "import pandas as pd\n",
    "import numpy as np\n",
    "import matplotlib.pyplot as plt\n",
    "import pmdarima as pm\n",
    "from sklearn.metrics import mean_squared_error\n",
    "import io\n",
    "import base64 "
   ]
  },
  {
   "cell_type": "code",
   "execution_count": 12,
   "metadata": {},
   "outputs": [],
   "source": [
    "dates= pd.read_csv(\"../data/weather_data.csv\")"
   ]
  },
  {
   "cell_type": "code",
   "execution_count": 13,
   "metadata": {},
   "outputs": [
    {
     "name": "stdout",
     "output_type": "stream",
     "text": [
      " * Serving Flask app \"__main__\" (lazy loading)\n",
      " * Environment: production\n",
      "\u001b[31m   WARNING: This is a development server. Do not use it in a production deployment.\u001b[0m\n",
      "\u001b[2m   Use a production WSGI server instead.\u001b[0m\n",
      " * Debug mode: on\n"
     ]
    },
    {
     "ename": "OSError",
     "evalue": "[Errno 48] Address already in use",
     "output_type": "error",
     "traceback": [
      "\u001b[0;31m---------------------------------------------------------------------------\u001b[0m",
      "\u001b[0;31mOSError\u001b[0m                                   Traceback (most recent call last)",
      "\u001b[1;32m/Users/kornelianeugebauer/Desktop/Project_weather/Notebooks/test.ipynb Cell 3\u001b[0m line \u001b[0;36m5\n\u001b[1;32m     <a href='vscode-notebook-cell:/Users/kornelianeugebauer/Desktop/Project_weather/Notebooks/test.ipynb#W0sZmlsZQ%3D%3D?line=48'>49</a>\u001b[0m     \u001b[39mreturn\u001b[39;00m \u001b[39m'\u001b[39m\u001b[39mWitaj na stronie głównej!\u001b[39m\u001b[39m'\u001b[39m\n\u001b[1;32m     <a href='vscode-notebook-cell:/Users/kornelianeugebauer/Desktop/Project_weather/Notebooks/test.ipynb#W0sZmlsZQ%3D%3D?line=50'>51</a>\u001b[0m \u001b[39mif\u001b[39;00m \u001b[39m__name__\u001b[39m \u001b[39m==\u001b[39m \u001b[39m'\u001b[39m\u001b[39m__main__\u001b[39m\u001b[39m'\u001b[39m:\n\u001b[0;32m---> <a href='vscode-notebook-cell:/Users/kornelianeugebauer/Desktop/Project_weather/Notebooks/test.ipynb#W0sZmlsZQ%3D%3D?line=51'>52</a>\u001b[0m     app\u001b[39m.\u001b[39mrun(host\u001b[39m=\u001b[39m\u001b[39m'\u001b[39m\u001b[39m0.0.0.0\u001b[39m\u001b[39m'\u001b[39m, port\u001b[39m=\u001b[39m\u001b[39m5000\u001b[39m, debug\u001b[39m=\u001b[39m\u001b[39mTrue\u001b[39;00m)\n",
      "File \u001b[0;32m/opt/homebrew/lib/python3.11/site-packages/flask/app.py:990\u001b[0m, in \u001b[0;36mFlask.run\u001b[0;34m(self, host, port, debug, load_dotenv, **options)\u001b[0m\n\u001b[1;32m    987\u001b[0m \u001b[39mfrom\u001b[39;00m \u001b[39mwerkzeug\u001b[39;00m\u001b[39m.\u001b[39;00m\u001b[39mserving\u001b[39;00m \u001b[39mimport\u001b[39;00m run_simple\n\u001b[1;32m    989\u001b[0m \u001b[39mtry\u001b[39;00m:\n\u001b[0;32m--> 990\u001b[0m     run_simple(host, port, \u001b[39mself\u001b[39m, \u001b[39m*\u001b[39m\u001b[39m*\u001b[39moptions)\n\u001b[1;32m    991\u001b[0m \u001b[39mfinally\u001b[39;00m:\n\u001b[1;32m    992\u001b[0m     \u001b[39m# reset the first request information if the development server\u001b[39;00m\n\u001b[1;32m    993\u001b[0m     \u001b[39m# reset normally.  This makes it possible to restart the server\u001b[39;00m\n\u001b[1;32m    994\u001b[0m     \u001b[39m# without reloader and that stuff from an interactive shell.\u001b[39;00m\n\u001b[1;32m    995\u001b[0m     \u001b[39mself\u001b[39m\u001b[39m.\u001b[39m_got_first_request \u001b[39m=\u001b[39m \u001b[39mFalse\u001b[39;00m\n",
      "File \u001b[0;32m/opt/homebrew/lib/python3.11/site-packages/werkzeug/serving.py:1030\u001b[0m, in \u001b[0;36mrun_simple\u001b[0;34m(hostname, port, application, use_reloader, use_debugger, use_evalex, extra_files, reloader_interval, reloader_type, threaded, processes, request_handler, static_files, passthrough_errors, ssl_context)\u001b[0m\n\u001b[1;32m   1028\u001b[0m s \u001b[39m=\u001b[39m socket\u001b[39m.\u001b[39msocket(address_family, socket\u001b[39m.\u001b[39mSOCK_STREAM)\n\u001b[1;32m   1029\u001b[0m s\u001b[39m.\u001b[39msetsockopt(socket\u001b[39m.\u001b[39mSOL_SOCKET, socket\u001b[39m.\u001b[39mSO_REUSEADDR, \u001b[39m1\u001b[39m)\n\u001b[0;32m-> 1030\u001b[0m s\u001b[39m.\u001b[39mbind(server_address)\n\u001b[1;32m   1031\u001b[0m \u001b[39mif\u001b[39;00m \u001b[39mhasattr\u001b[39m(s, \u001b[39m\"\u001b[39m\u001b[39mset_inheritable\u001b[39m\u001b[39m\"\u001b[39m):\n\u001b[1;32m   1032\u001b[0m     s\u001b[39m.\u001b[39mset_inheritable(\u001b[39mTrue\u001b[39;00m)\n",
      "\u001b[0;31mOSError\u001b[0m: [Errno 48] Address already in use"
     ]
    }
   ],
   "source": [
    "app = Flask(__name__)\n",
    "\n",
    "# Sample weather data generation\n",
    "\n",
    "dates = pd.date_range(start='2018-01-01', periods=72, freq='M')\n",
    "avgtempC = np.random.uniform(low=0, high=30, size=len(dates))\n",
    "weather_df = pd.DataFrame(data={'date': dates, 'avgtempC': avgtempC})\n",
    "\n",
    "# Preprocess the data\n",
    "weather_df['date'] = pd.to_datetime(weather_df['date'])\n",
    "weather_df.set_index('date', inplace=True)\n",
    "\n",
    "# Train and test data preparation\n",
    "train_df = weather_df['2018':'2022'].resample('M').mean()\n",
    "test_df = weather_df['2023':'2024'].resample('M').mean()\n",
    "\n",
    "@app.route('/forecast_temperature')\n",
    "def forecast_temperature():\n",
    "    # Step 1: Train the model on training data\n",
    "    model = pm.auto_arima(train_df, seasonal=True, m=12)\n",
    "    model.fit(train_df)\n",
    "\n",
    "    # Step 2: Predict future temperatures\n",
    "    forecast = model.predict(n_periods=len(test_df))\n",
    "    forecast_df = pd.DataFrame(forecast, index=test_df.index, columns=['Prediction'])\n",
    "\n",
    "    # Calculate RMSE\n",
    "    rmse = np.sqrt(mean_squared_error(test_df, forecast_df))\n",
    "\n",
    "    # Visualize the results\n",
    "    plt.figure(figsize=(10, 5))\n",
    "    plt.plot(train_df, label='Training Data')\n",
    "    plt.plot(test_df, label='Actual Data', color='orange')\n",
    "    plt.plot(forecast_df, label='Forecasted Data', color='red')\n",
    "    plt.legend()\n",
    "    plt.title('ARIMA Model Evaluation')\n",
    "    plt.xlabel('Date')\n",
    "    plt.ylabel('Temperature')\n",
    "\n",
    "    # Save plot to BytesIO object\n",
    "    img = io.BytesIO()\n",
    "    plt.savefig(img, format='png')\n",
    "    img.seek(0)\n",
    "    plot_url = base64.b64encode(img.getvalue()).decode()\n",
    "\n",
    "    return render_template('index.html', rmse=rmse, plot_url=plot_url)\n",
    "@app.route('/')\n",
    "def index():\n",
    "    return 'Witaj na stronie głównej!'\n",
    "\n",
    "if __name__ == '__main__':\n",
    "    app.run(host='0.0.0.0', port=5000, debug=True)\n",
    "\n",
    "\n"
   ]
  }
 ],
 "metadata": {
  "kernelspec": {
   "display_name": "Python 3",
   "language": "python",
   "name": "python3"
  },
  "language_info": {
   "codemirror_mode": {
    "name": "ipython",
    "version": 3
   },
   "file_extension": ".py",
   "mimetype": "text/x-python",
   "name": "python",
   "nbconvert_exporter": "python",
   "pygments_lexer": "ipython3",
   "version": "3.11.5"
  }
 },
 "nbformat": 4,
 "nbformat_minor": 2
}
